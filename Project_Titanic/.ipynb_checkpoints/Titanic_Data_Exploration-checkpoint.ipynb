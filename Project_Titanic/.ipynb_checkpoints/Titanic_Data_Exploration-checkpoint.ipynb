{
 "cells": [
  {
   "cell_type": "markdown",
   "metadata": {},
   "source": [
    "# Titanic Data Exploration\n",
    "\n",
    "This is an exploration of the dataset given in the \"Titanic: Machine Learning from Disaster\" Kaggle competition. The aim is to understand the data before applying machine learning techniques to predict, given a random passenger, whether or not they would survive the sinking of the Titanic. "
   ]
  },
  {
   "cell_type": "code",
   "execution_count": 1,
   "metadata": {},
   "outputs": [],
   "source": [
    "# Import the libraries to analyse the data\n",
    "import pandas as pd\n",
    "import matplotlib as mpl\n",
    "import matplotlib.pyplot as plt\n",
    "\n",
    "mpl.rcParams['figure.figsize'] = (16, 4)\n",
    "mpl.rcParams['axes.grid'] = False"
   ]
  },
  {
   "cell_type": "code",
   "execution_count": 2,
   "metadata": {},
   "outputs": [
    {
     "data": {
      "text/html": [
       "<div>\n",
       "<style scoped>\n",
       "    .dataframe tbody tr th:only-of-type {\n",
       "        vertical-align: middle;\n",
       "    }\n",
       "\n",
       "    .dataframe tbody tr th {\n",
       "        vertical-align: top;\n",
       "    }\n",
       "\n",
       "    .dataframe thead th {\n",
       "        text-align: right;\n",
       "    }\n",
       "</style>\n",
       "<table border=\"1\" class=\"dataframe\">\n",
       "  <thead>\n",
       "    <tr style=\"text-align: right;\">\n",
       "      <th></th>\n",
       "      <th>Survived</th>\n",
       "      <th>Pclass</th>\n",
       "      <th>Name</th>\n",
       "      <th>Sex</th>\n",
       "      <th>Age</th>\n",
       "      <th>SibSp</th>\n",
       "      <th>Parch</th>\n",
       "      <th>Ticket</th>\n",
       "      <th>Fare</th>\n",
       "      <th>Cabin</th>\n",
       "      <th>Embarked</th>\n",
       "    </tr>\n",
       "    <tr>\n",
       "      <th>PassengerId</th>\n",
       "      <th></th>\n",
       "      <th></th>\n",
       "      <th></th>\n",
       "      <th></th>\n",
       "      <th></th>\n",
       "      <th></th>\n",
       "      <th></th>\n",
       "      <th></th>\n",
       "      <th></th>\n",
       "      <th></th>\n",
       "      <th></th>\n",
       "    </tr>\n",
       "  </thead>\n",
       "  <tbody>\n",
       "    <tr>\n",
       "      <th>1</th>\n",
       "      <td>0</td>\n",
       "      <td>3</td>\n",
       "      <td>Braund, Mr. Owen Harris</td>\n",
       "      <td>male</td>\n",
       "      <td>22.0</td>\n",
       "      <td>1</td>\n",
       "      <td>0</td>\n",
       "      <td>A/5 21171</td>\n",
       "      <td>7.2500</td>\n",
       "      <td>NaN</td>\n",
       "      <td>S</td>\n",
       "    </tr>\n",
       "    <tr>\n",
       "      <th>2</th>\n",
       "      <td>1</td>\n",
       "      <td>1</td>\n",
       "      <td>Cumings, Mrs. John Bradley (Florence Briggs Th...</td>\n",
       "      <td>female</td>\n",
       "      <td>38.0</td>\n",
       "      <td>1</td>\n",
       "      <td>0</td>\n",
       "      <td>PC 17599</td>\n",
       "      <td>71.2833</td>\n",
       "      <td>C85</td>\n",
       "      <td>C</td>\n",
       "    </tr>\n",
       "    <tr>\n",
       "      <th>3</th>\n",
       "      <td>1</td>\n",
       "      <td>3</td>\n",
       "      <td>Heikkinen, Miss. Laina</td>\n",
       "      <td>female</td>\n",
       "      <td>26.0</td>\n",
       "      <td>0</td>\n",
       "      <td>0</td>\n",
       "      <td>STON/O2. 3101282</td>\n",
       "      <td>7.9250</td>\n",
       "      <td>NaN</td>\n",
       "      <td>S</td>\n",
       "    </tr>\n",
       "    <tr>\n",
       "      <th>4</th>\n",
       "      <td>1</td>\n",
       "      <td>1</td>\n",
       "      <td>Futrelle, Mrs. Jacques Heath (Lily May Peel)</td>\n",
       "      <td>female</td>\n",
       "      <td>35.0</td>\n",
       "      <td>1</td>\n",
       "      <td>0</td>\n",
       "      <td>113803</td>\n",
       "      <td>53.1000</td>\n",
       "      <td>C123</td>\n",
       "      <td>S</td>\n",
       "    </tr>\n",
       "    <tr>\n",
       "      <th>5</th>\n",
       "      <td>0</td>\n",
       "      <td>3</td>\n",
       "      <td>Allen, Mr. William Henry</td>\n",
       "      <td>male</td>\n",
       "      <td>35.0</td>\n",
       "      <td>0</td>\n",
       "      <td>0</td>\n",
       "      <td>373450</td>\n",
       "      <td>8.0500</td>\n",
       "      <td>NaN</td>\n",
       "      <td>S</td>\n",
       "    </tr>\n",
       "  </tbody>\n",
       "</table>\n",
       "</div>"
      ],
      "text/plain": [
       "             Survived  Pclass  \\\n",
       "PassengerId                     \n",
       "1                   0       3   \n",
       "2                   1       1   \n",
       "3                   1       3   \n",
       "4                   1       1   \n",
       "5                   0       3   \n",
       "\n",
       "                                                          Name     Sex   Age  \\\n",
       "PassengerId                                                                    \n",
       "1                                      Braund, Mr. Owen Harris    male  22.0   \n",
       "2            Cumings, Mrs. John Bradley (Florence Briggs Th...  female  38.0   \n",
       "3                                       Heikkinen, Miss. Laina  female  26.0   \n",
       "4                 Futrelle, Mrs. Jacques Heath (Lily May Peel)  female  35.0   \n",
       "5                                     Allen, Mr. William Henry    male  35.0   \n",
       "\n",
       "             SibSp  Parch            Ticket     Fare Cabin Embarked  \n",
       "PassengerId                                                          \n",
       "1                1      0         A/5 21171   7.2500   NaN        S  \n",
       "2                1      0          PC 17599  71.2833   C85        C  \n",
       "3                0      0  STON/O2. 3101282   7.9250   NaN        S  \n",
       "4                1      0            113803  53.1000  C123        S  \n",
       "5                0      0            373450   8.0500   NaN        S  "
      ]
     },
     "execution_count": 2,
     "metadata": {},
     "output_type": "execute_result"
    }
   ],
   "source": [
    "# Import the data and display the first 5 entries \n",
    "data = pd.read_csv(\"data/train.csv\", index_col=\"PassengerId\")\n",
    "data.head()"
   ]
  },
  {
   "cell_type": "markdown",
   "metadata": {},
   "source": [
    "Displaying the first 5 entries in the database we can see that we are given:\n",
    " - Survived\t- Survival Status (0 = No, 1 = Yes)\n",
    " - Pclass - Passenger Class (1 = 1st, 2 = 2nd, 3 = 3rd)\n",
    " - Name\n",
    " - Sex (Male/Female)\n",
    " - Age (Years) Note: Ages with a decimal are estimated ages\n",
    " - sibsp - Number of siblings / spouses aboard the Titanic\t\n",
    " - parch - Number of parents / children aboard the Titanic\n",
    " - Ticket - Ticket Number\n",
    " - Fare - Fare Paid (Unit unknown)\n",
    " - Cabin - The room the passenger stayed in (where the letter designates the deck of the Titanic)\n",
    " - Embarked - The port of Embarkation (C = Cherbourg, Q = Queenstown, S = Southampton) "
   ]
  },
  {
   "cell_type": "code",
   "execution_count": 3,
   "metadata": {},
   "outputs": [
    {
     "data": {
      "text/html": [
       "<div>\n",
       "<style scoped>\n",
       "    .dataframe tbody tr th:only-of-type {\n",
       "        vertical-align: middle;\n",
       "    }\n",
       "\n",
       "    .dataframe tbody tr th {\n",
       "        vertical-align: top;\n",
       "    }\n",
       "\n",
       "    .dataframe thead th {\n",
       "        text-align: right;\n",
       "    }\n",
       "</style>\n",
       "<table border=\"1\" class=\"dataframe\">\n",
       "  <thead>\n",
       "    <tr style=\"text-align: right;\">\n",
       "      <th></th>\n",
       "      <th>Survived</th>\n",
       "      <th>Pclass</th>\n",
       "      <th>Age</th>\n",
       "      <th>SibSp</th>\n",
       "      <th>Parch</th>\n",
       "      <th>Fare</th>\n",
       "    </tr>\n",
       "  </thead>\n",
       "  <tbody>\n",
       "    <tr>\n",
       "      <th>count</th>\n",
       "      <td>891.000000</td>\n",
       "      <td>891.000000</td>\n",
       "      <td>714.000000</td>\n",
       "      <td>891.000000</td>\n",
       "      <td>891.000000</td>\n",
       "      <td>891.000000</td>\n",
       "    </tr>\n",
       "    <tr>\n",
       "      <th>mean</th>\n",
       "      <td>0.383838</td>\n",
       "      <td>2.308642</td>\n",
       "      <td>29.699118</td>\n",
       "      <td>0.523008</td>\n",
       "      <td>0.381594</td>\n",
       "      <td>32.204208</td>\n",
       "    </tr>\n",
       "    <tr>\n",
       "      <th>std</th>\n",
       "      <td>0.486592</td>\n",
       "      <td>0.836071</td>\n",
       "      <td>14.526497</td>\n",
       "      <td>1.102743</td>\n",
       "      <td>0.806057</td>\n",
       "      <td>49.693429</td>\n",
       "    </tr>\n",
       "    <tr>\n",
       "      <th>min</th>\n",
       "      <td>0.000000</td>\n",
       "      <td>1.000000</td>\n",
       "      <td>0.420000</td>\n",
       "      <td>0.000000</td>\n",
       "      <td>0.000000</td>\n",
       "      <td>0.000000</td>\n",
       "    </tr>\n",
       "    <tr>\n",
       "      <th>25%</th>\n",
       "      <td>0.000000</td>\n",
       "      <td>2.000000</td>\n",
       "      <td>20.125000</td>\n",
       "      <td>0.000000</td>\n",
       "      <td>0.000000</td>\n",
       "      <td>7.910400</td>\n",
       "    </tr>\n",
       "    <tr>\n",
       "      <th>50%</th>\n",
       "      <td>0.000000</td>\n",
       "      <td>3.000000</td>\n",
       "      <td>28.000000</td>\n",
       "      <td>0.000000</td>\n",
       "      <td>0.000000</td>\n",
       "      <td>14.454200</td>\n",
       "    </tr>\n",
       "    <tr>\n",
       "      <th>75%</th>\n",
       "      <td>1.000000</td>\n",
       "      <td>3.000000</td>\n",
       "      <td>38.000000</td>\n",
       "      <td>1.000000</td>\n",
       "      <td>0.000000</td>\n",
       "      <td>31.000000</td>\n",
       "    </tr>\n",
       "    <tr>\n",
       "      <th>max</th>\n",
       "      <td>1.000000</td>\n",
       "      <td>3.000000</td>\n",
       "      <td>80.000000</td>\n",
       "      <td>8.000000</td>\n",
       "      <td>6.000000</td>\n",
       "      <td>512.329200</td>\n",
       "    </tr>\n",
       "  </tbody>\n",
       "</table>\n",
       "</div>"
      ],
      "text/plain": [
       "         Survived      Pclass         Age       SibSp       Parch        Fare\n",
       "count  891.000000  891.000000  714.000000  891.000000  891.000000  891.000000\n",
       "mean     0.383838    2.308642   29.699118    0.523008    0.381594   32.204208\n",
       "std      0.486592    0.836071   14.526497    1.102743    0.806057   49.693429\n",
       "min      0.000000    1.000000    0.420000    0.000000    0.000000    0.000000\n",
       "25%      0.000000    2.000000   20.125000    0.000000    0.000000    7.910400\n",
       "50%      0.000000    3.000000   28.000000    0.000000    0.000000   14.454200\n",
       "75%      1.000000    3.000000   38.000000    1.000000    0.000000   31.000000\n",
       "max      1.000000    3.000000   80.000000    8.000000    6.000000  512.329200"
      ]
     },
     "execution_count": 3,
     "metadata": {},
     "output_type": "execute_result"
    }
   ],
   "source": [
    "# Dataset Statistics\n",
    "data.describe()"
   ]
  },
  {
   "cell_type": "code",
   "execution_count": 4,
   "metadata": {},
   "outputs": [
    {
     "name": "stdout",
     "output_type": "stream",
     "text": [
      "Survive\t0/891\t0%\n",
      "Pclass\t0/891\t0%\n",
      "Name\t0/891\t0%\n",
      "Sex\t0/891\t0%\n",
      "Age\t177/891\t19%\n",
      "SibSp\t0/891\t0%\n",
      "Parch\t0/891\t0%\n",
      "Ticket\t0/891\t0%\n",
      "Fare\t0/891\t0%\n",
      "Cabin\t687/891\t77%\n",
      "Embarke\t2/891\t0%\n"
     ]
    }
   ],
   "source": [
    "# Print the number of missing values\n",
    "data.isnull().sum()\n",
    "for col in data.columns:\n",
    "    total = data[\"Survived\"].count()\n",
    "    missing = data[col].isnull().sum()\n",
    "    percent = (missing/total) * 100\n",
    "    print(\"%s\\t%i/%i\\t%i%%\" % (col[:7], missing, total, percent))"
   ]
  },
  {
   "cell_type": "markdown",
   "metadata": {},
   "source": [
    "In total there are 891 passenger entries in the dataset. From displaying the statistics about the dataset we can see there are a number of missing entries. Nearly 20% of the ages of the passengers are missing and over 77% of the cabin numbers are unknown. \n",
    "\n",
    "While the age of the passengers can be estimated, there appears to be too many missing entries in the Cabin column for it to be useful so it will be ignored in data analysis. "
   ]
  },
  {
   "cell_type": "markdown",
   "metadata": {},
   "source": [
    "# Data Insights "
   ]
  },
  {
   "cell_type": "code",
   "execution_count": 5,
   "metadata": {},
   "outputs": [
    {
     "name": "stdout",
     "output_type": "stream",
     "text": [
      "Passengers boarded at Southampton: 644\n",
      "Passengers boarded at Cherbourg: 168\n",
      "Passengers boarded at Queenstown: 77\n"
     ]
    },
    {
     "data": {
      "image/png": "[encoded data removed]",
      "text/plain": [
       "<Figure size 1152x288 with 4 Axes>"
      ]
     },
     "metadata": {
      "needs_background": "light"
     },
     "output_type": "display_data"
    }
   ],
   "source": [
    "# Class Breakdown by port of entry \n",
    "fig, axs = plt.subplots(1, 4)\n",
    "fig.tight_layout(pad=2)\n",
    "axs[0].set_title(\"Total Class Breakdown\")\n",
    "axs[0].hist(data[\"Pclass\"])\n",
    "axs[1].set_title(\"Class Breakdown - Southampton\")\n",
    "axs[1].hist(data[\"Pclass\"].loc[data[\"Embarked\"] == \"S\"])\n",
    "axs[2].set_title(\"Class Breakdown - Cherbourg\")\n",
    "axs[2].hist(data[\"Pclass\"].loc[data[\"Embarked\"] == \"C\"])\n",
    "axs[3].set_title(\"Class Breakdown - Queenstown\")\n",
    "axs[3].hist(data[\"Pclass\"].loc[data[\"Embarked\"] == \"Q\"])\n",
    "\n",
    "print(\"Passengers boarded at Southampton: %i\" % data[\"Pclass\"].loc[data[\"Embarked\"] == \"S\"].count())\n",
    "print(\"Passengers boarded at Cherbourg: %i\" % data[\"Pclass\"].loc[data[\"Embarked\"] == \"C\"].count())\n",
    "print(\"Passengers boarded at Queenstown: %i\" % data[\"Pclass\"].loc[data[\"Embarked\"] == \"Q\"].count())"
   ]
  },
  {
   "cell_type": "markdown",
   "metadata": {},
   "source": [
    "This data is useful as it tells us where the majority of passengers boarded the Titanic. The two missing values for the Embarked column will be filled in with Southampton as that is where the majority of passengers boarded."
   ]
  },
  {
   "cell_type": "code",
   "execution_count": 6,
   "metadata": {},
   "outputs": [
    {
     "name": "stdout",
     "output_type": "stream",
     "text": [
      "Median Age 1st class: 37\n",
      "Median Age 2nd class: 29\n",
      "Median Age 3rd class: 24\n"
     ]
    },
    {
     "data": {
      "image/png": "[encoded data removed]",
      "text/plain": [
       "<Figure size 1152x288 with 4 Axes>"
      ]
     },
     "metadata": {
      "needs_background": "light"
     },
     "output_type": "display_data"
    }
   ],
   "source": [
    "# Age breakdown by class\n",
    "bins=[0,10,20,30,40,50,60,70,80,90,100]\n",
    "\n",
    "fig, axs = plt.subplots(1, 4)\n",
    "fig.tight_layout(pad=2)\n",
    "axs[0].set_title(\"Age Breakdown - All Class\")\n",
    "axs[0].hist(data[\"Age\"], bins=bins, rwidth=0.9)\n",
    "axs[1].set_title(\"Age Breakdown - 1 Class\")\n",
    "axs[1].hist(data[\"Age\"].loc[data[\"Pclass\"] == 1], bins=bins, rwidth=0.9)\n",
    "axs[2].set_title(\"Age Breakdown - 2 Class\")\n",
    "axs[2].hist(data[\"Age\"].loc[data[\"Pclass\"] == 2], bins=bins, rwidth=0.9)\n",
    "axs[3].set_title(\"Age Breakdown - 3 Class\")\n",
    "axs[3].hist(data[\"Age\"].loc[data[\"Pclass\"] == 3], bins=bins, rwidth=0.9)\n",
    "\n",
    "print(\"Median Age 1st class: %i\" % (data[\"Age\"].loc[data[\"Pclass\"] == 1].median()))\n",
    "print(\"Median Age 2nd class: %i\" % (data[\"Age\"].loc[data[\"Pclass\"] == 2].median()))\n",
    "print(\"Median Age 3rd class: %i\" % (data[\"Age\"].loc[data[\"Pclass\"] == 3].median()))"
   ]
  },
  {
   "cell_type": "markdown",
   "metadata": {},
   "source": [
    "There is clearly a difference in age profile for each class. The age profile of third class skews younger than the passengers in first class with second class being somewhere in the middle. From this information it seems sensible to use the meadian age of the passengers broken down by class to fill in the missing Age data rather than the overall median age. This should be explored in the data analysis section. "
   ]
  },
  {
   "cell_type": "code",
   "execution_count": 7,
   "metadata": {},
   "outputs": [
    {
     "name": "stdout",
     "output_type": "stream",
     "text": [
      "Average Fair 1st class: 84.15\n",
      "Average Fair 2nd class: 20.66\n",
      "Average Fair 3rd class: 13.68\n",
      "\n",
      "Total Fair 1st class: 18177.41\n",
      "Total Fair 2nd class: 3801.84\n",
      "Total Fair 3rd class: 6714.70\n",
      "\n"
     ]
    },
    {
     "data": {
      "image/png": "[encoded data removed]",
      "text/plain": [
       "<Figure size 1152x288 with 1 Axes>"
      ]
     },
     "metadata": {},
     "output_type": "display_data"
    }
   ],
   "source": [
    "# Average Fare by class\n",
    "print(\"Average Fair 1st class: %.2f\" % (data[\"Fare\"].loc[data[\"Pclass\"] == 1].mean()))\n",
    "print(\"Average Fair 2nd class: %.2f\" % (data[\"Fare\"].loc[data[\"Pclass\"] == 2].mean()))\n",
    "print(\"Average Fair 3rd class: %.2f\" % (data[\"Fare\"].loc[data[\"Pclass\"] == 3].mean()))\n",
    "print()\n",
    "print(\"Total Fair 1st class: %.2f\" % (data[\"Fare\"].loc[data[\"Pclass\"] == 1].sum()))\n",
    "print(\"Total Fair 2nd class: %.2f\" % (data[\"Fare\"].loc[data[\"Pclass\"] == 2].sum()))\n",
    "print(\"Total Fair 3rd class: %.2f\" % (data[\"Fare\"].loc[data[\"Pclass\"] == 3].sum()))\n",
    "\n",
    "data.groupby(\"Pclass\")[\"Fare\"].sum().plot.pie(autopct='%1.1f%%')\n",
    "print()"
   ]
  },
  {
   "cell_type": "markdown",
   "metadata": {},
   "source": [
    "Assuming this dataset is representitive of the overall population on the Titanic, it appears that the majority of the income for White Star Line came from first class passengers with the first class tickets on average being over four times that of second class and over 6 times that of third. "
   ]
  },
  {
   "cell_type": "code",
   "execution_count": 8,
   "metadata": {},
   "outputs": [
    {
     "name": "stdout",
     "output_type": "stream",
     "text": [
      "\n"
     ]
    },
    {
     "data": {
      "image/png": "[encoded data removed]",
      "text/plain": [
       "<Figure size 1152x288 with 4 Axes>"
      ]
     },
     "metadata": {},
     "output_type": "display_data"
    }
   ],
   "source": [
    "# Sex Ratio by class\n",
    "fig, axs = plt.subplots(1, 4)\n",
    "fig.tight_layout(pad=2)\n",
    "axs[0].set_title(\"Sex Breakdown\")\n",
    "axs[0].pie(data.groupby(\"Sex\").count()[\"Name\"], labels=[\"Female\", \"Male\"], autopct='%1.1f%%')\n",
    "axs[1].set_title(\"Sex Breakdown - 1 Class\")\n",
    "axs[1].pie(data.loc[data[\"Pclass\"] == 1].groupby(\"Sex\").count()[\"Name\"], labels=[\"Female\", \"Male\"], autopct='%1.1f%%')\n",
    "axs[2].set_title(\"Sex Breakdown - 2 Class\")\n",
    "axs[2].pie(data.loc[data[\"Pclass\"] == 2].groupby(\"Sex\").count()[\"Name\"], labels=[\"Female\", \"Male\"], autopct='%1.1f%%')\n",
    "axs[3].set_title(\"Sex Breakdown - 3 Class\")\n",
    "axs[3].pie(data.loc[data[\"Pclass\"] == 3].groupby(\"Sex\").count()[\"Name\"], labels=[\"Female\", \"Male\"], autopct='%1.1f%%')\n",
    "print()"
   ]
  },
  {
   "cell_type": "code",
   "execution_count": 9,
   "metadata": {},
   "outputs": [
    {
     "data": {
      "text/plain": [
       "Pclass\n",
       "1    0.773148\n",
       "2    0.782609\n",
       "3    1.008147\n",
       "Name: Family, dtype: float64"
      ]
     },
     "execution_count": 9,
     "metadata": {},
     "output_type": "execute_result"
    }
   ],
   "source": [
    "# Family Size SibSp Parch\n",
    "data[\"Family\"] = data[\"SibSp\"] + data[\"Parch\"]\n",
    "\n",
    "data.groupby(\"Pclass\")[\"Family\"].mean()"
   ]
  },
  {
   "cell_type": "code",
   "execution_count": 10,
   "metadata": {},
   "outputs": [
    {
     "name": "stdout",
     "output_type": "stream",
     "text": [
      "\n"
     ]
    },
    {
     "data": {
      "image/png": "[encoded data removed]",
      "text/plain": [
       "<Figure size 1152x288 with 4 Axes>"
      ]
     },
     "metadata": {
      "needs_background": "light"
     },
     "output_type": "display_data"
    }
   ],
   "source": [
    "# Survival Rates by Sex and Class\n",
    "fig, axs = plt.subplots(1, 4)\n",
    "fig.tight_layout(pad=2)\n",
    "axs[0].set_title(\"Survival Breakdown by Sex\")\n",
    "axs[0].bar([1,2, 3, 4], data.groupby([\"Sex\", \"Survived\"]).count()[\"Name\"])\n",
    "axs[0].set_xticklabels([\"\", \"F-Died\", \"F-Survived\", \"M-Died\", \"M-Survived\"])\n",
    "axs[1].set_title(\"Survival Breakdown by Sex - 1 Class\")\n",
    "axs[1].bar([1,2, 3, 4], data.loc[data[\"Pclass\"] == 1].groupby([\"Sex\", \"Survived\"]).count()[\"Name\"])\n",
    "axs[1].set_xticklabels([\"\", \"F-Died\", \"F-Survived\", \"M-Died\", \"M-Survived\"])\n",
    "axs[2].set_title(\"Survival Breakdown by Sex - 2 Class\")\n",
    "axs[2].bar([1,2, 3, 4], data.loc[data[\"Pclass\"] == 2].groupby([\"Sex\", \"Survived\"]).count()[\"Name\"])\n",
    "axs[2].set_xticklabels([\"\", \"F-Died\", \"F-Survived\", \"M-Died\", \"M-Survived\"])\n",
    "axs[3].set_title(\"Survival Breakdown by Sex - 3 Class\")\n",
    "axs[3].bar([1,2, 3, 4], data.loc[data[\"Pclass\"] == 3].groupby([\"Sex\", \"Survived\"]).count()[\"Name\"])\n",
    "axs[3].set_xticklabels([\"\", \"F-Died\", \"F-Survived\", \"M-Died\", \"M-Survived\"])\n",
    "print()"
   ]
  }
 ],
 "metadata": {
  "kernelspec": {
   "display_name": "neuralbus",
   "language": "python",
   "name": "neuralbus"
  },
  "language_info": {
   "codemirror_mode": {
    "name": "ipython",
    "version": 3
   },
   "file_extension": ".py",
   "mimetype": "text/x-python",
   "name": "python",
   "nbconvert_exporter": "python",
   "pygments_lexer": "ipython3",
   "version": "3.8.2"
  }
 },
 "nbformat": 4,
 "nbformat_minor": 4
}
