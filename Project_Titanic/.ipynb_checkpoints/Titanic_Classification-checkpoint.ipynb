{
 "cells": [
  {
   "cell_type": "markdown",
   "metadata": {},
   "source": [
    "# Titanic Classification Models\n",
    "\n",
    "In this notebook we will look at multiple classification models and try tune their parameters in order to select the best model to submit to the Titanic dataset competition."
   ]
  },
  {
   "cell_type": "markdown",
   "metadata": {},
   "source": [
    "### Data Preprocessing"
   ]
  },
  {
   "cell_type": "code",
   "execution_count": 1,
   "metadata": {},
   "outputs": [],
   "source": [
    "# Importing basic libraries\n",
    "import numpy as np\n",
    "import pandas as pd\n",
    "import tensorflow as tf\n",
    "import os\n",
    "import random\n",
    "\n",
    "# Importing plotting libraries\n",
    "import IPython\n",
    "import IPython.display\n",
    "import matplotlib as mpl\n",
    "import matplotlib.pyplot as plt\n",
    "\n",
    "# Importing sklearn support libraries\n",
    "from sklearn.model_selection import train_test_split\n",
    "from sklearn.preprocessing import StandardScaler\n",
    "import sklearn.metrics as metrics\n",
    "\n",
    "# Importing model libraries\n",
    "from sklearn.linear_model import LogisticRegression\n",
    "from sklearn.neighbors import KNeighborsClassifier\n",
    "from sklearn.svm import SVC\n",
    "from sklearn.naive_bayes import GaussianNB\n",
    "from sklearn.tree import DecisionTreeClassifier\n",
    "from sklearn.ensemble import RandomForestClassifier\n",
    "\n",
    "# Setting parameters\n",
    "mpl.rcParams['figure.figsize'] = (8, 6)\n",
    "mpl.rcParams['axes.grid'] = False"
   ]
  },
  {
   "cell_type": "code",
   "execution_count": 2,
   "metadata": {},
   "outputs": [],
   "source": [
    "# Functions used to create and return a confusion matrix and an accuracy score for each model\n",
    "def confusion_matrix(classifier, X_test, y_test):\n",
    "    y_pred = classifier.predict(X_test)\n",
    "    return metrics.confusion_matrix(y_test, y_pred)\n",
    "\n",
    "\n",
    "def accuracy_score(classifier, X_test, y_test):\n",
    "    y_pred = classifier.predict(X_test)\n",
    "    return metrics.accuracy_score(y_test, y_pred)"
   ]
  },
  {
   "cell_type": "code",
   "execution_count": 3,
   "metadata": {},
   "outputs": [
    {
     "data": {
      "text/html": [
       "<div>\n",
       "<style scoped>\n",
       "    .dataframe tbody tr th:only-of-type {\n",
       "        vertical-align: middle;\n",
       "    }\n",
       "\n",
       "    .dataframe tbody tr th {\n",
       "        vertical-align: top;\n",
       "    }\n",
       "\n",
       "    .dataframe thead th {\n",
       "        text-align: right;\n",
       "    }\n",
       "</style>\n",
       "<table border=\"1\" class=\"dataframe\">\n",
       "  <thead>\n",
       "    <tr style=\"text-align: right;\">\n",
       "      <th></th>\n",
       "      <th>Survived</th>\n",
       "      <th>Pclass</th>\n",
       "      <th>Name</th>\n",
       "      <th>Sex</th>\n",
       "      <th>Age</th>\n",
       "      <th>SibSp</th>\n",
       "      <th>Parch</th>\n",
       "      <th>Ticket</th>\n",
       "      <th>Fare</th>\n",
       "      <th>Cabin</th>\n",
       "      <th>Embarked</th>\n",
       "    </tr>\n",
       "    <tr>\n",
       "      <th>PassengerId</th>\n",
       "      <th></th>\n",
       "      <th></th>\n",
       "      <th></th>\n",
       "      <th></th>\n",
       "      <th></th>\n",
       "      <th></th>\n",
       "      <th></th>\n",
       "      <th></th>\n",
       "      <th></th>\n",
       "      <th></th>\n",
       "      <th></th>\n",
       "    </tr>\n",
       "  </thead>\n",
       "  <tbody>\n",
       "    <tr>\n",
       "      <th>1</th>\n",
       "      <td>0</td>\n",
       "      <td>3</td>\n",
       "      <td>Braund, Mr. Owen Harris</td>\n",
       "      <td>male</td>\n",
       "      <td>22.0</td>\n",
       "      <td>1</td>\n",
       "      <td>0</td>\n",
       "      <td>A/5 21171</td>\n",
       "      <td>7.2500</td>\n",
       "      <td>NaN</td>\n",
       "      <td>S</td>\n",
       "    </tr>\n",
       "    <tr>\n",
       "      <th>2</th>\n",
       "      <td>1</td>\n",
       "      <td>1</td>\n",
       "      <td>Cumings, Mrs. John Bradley (Florence Briggs Th...</td>\n",
       "      <td>female</td>\n",
       "      <td>38.0</td>\n",
       "      <td>1</td>\n",
       "      <td>0</td>\n",
       "      <td>PC 17599</td>\n",
       "      <td>71.2833</td>\n",
       "      <td>C85</td>\n",
       "      <td>C</td>\n",
       "    </tr>\n",
       "    <tr>\n",
       "      <th>3</th>\n",
       "      <td>1</td>\n",
       "      <td>3</td>\n",
       "      <td>Heikkinen, Miss. Laina</td>\n",
       "      <td>female</td>\n",
       "      <td>26.0</td>\n",
       "      <td>0</td>\n",
       "      <td>0</td>\n",
       "      <td>STON/O2. 3101282</td>\n",
       "      <td>7.9250</td>\n",
       "      <td>NaN</td>\n",
       "      <td>S</td>\n",
       "    </tr>\n",
       "    <tr>\n",
       "      <th>4</th>\n",
       "      <td>1</td>\n",
       "      <td>1</td>\n",
       "      <td>Futrelle, Mrs. Jacques Heath (Lily May Peel)</td>\n",
       "      <td>female</td>\n",
       "      <td>35.0</td>\n",
       "      <td>1</td>\n",
       "      <td>0</td>\n",
       "      <td>113803</td>\n",
       "      <td>53.1000</td>\n",
       "      <td>C123</td>\n",
       "      <td>S</td>\n",
       "    </tr>\n",
       "    <tr>\n",
       "      <th>5</th>\n",
       "      <td>0</td>\n",
       "      <td>3</td>\n",
       "      <td>Allen, Mr. William Henry</td>\n",
       "      <td>male</td>\n",
       "      <td>35.0</td>\n",
       "      <td>0</td>\n",
       "      <td>0</td>\n",
       "      <td>373450</td>\n",
       "      <td>8.0500</td>\n",
       "      <td>NaN</td>\n",
       "      <td>S</td>\n",
       "    </tr>\n",
       "  </tbody>\n",
       "</table>\n",
       "</div>"
      ],
      "text/plain": [
       "             Survived  Pclass  \\\n",
       "PassengerId                     \n",
       "1                   0       3   \n",
       "2                   1       1   \n",
       "3                   1       3   \n",
       "4                   1       1   \n",
       "5                   0       3   \n",
       "\n",
       "                                                          Name     Sex   Age  \\\n",
       "PassengerId                                                                    \n",
       "1                                      Braund, Mr. Owen Harris    male  22.0   \n",
       "2            Cumings, Mrs. John Bradley (Florence Briggs Th...  female  38.0   \n",
       "3                                       Heikkinen, Miss. Laina  female  26.0   \n",
       "4                 Futrelle, Mrs. Jacques Heath (Lily May Peel)  female  35.0   \n",
       "5                                     Allen, Mr. William Henry    male  35.0   \n",
       "\n",
       "             SibSp  Parch            Ticket     Fare Cabin Embarked  \n",
       "PassengerId                                                          \n",
       "1                1      0         A/5 21171   7.2500   NaN        S  \n",
       "2                1      0          PC 17599  71.2833   C85        C  \n",
       "3                0      0  STON/O2. 3101282   7.9250   NaN        S  \n",
       "4                1      0            113803  53.1000  C123        S  \n",
       "5                0      0            373450   8.0500   NaN        S  "
      ]
     },
     "execution_count": 3,
     "metadata": {},
     "output_type": "execute_result"
    }
   ],
   "source": [
    "# Read the data from the csv and print the first 5 entries of the training data\n",
    "data = pd.read_csv(\"data/train.csv\", index_col = \"PassengerId\")\n",
    "comp_data = pd.read_csv(\"data/test.csv\", index_col = \"PassengerId\")\n",
    "data.head()"
   ]
  },
  {
   "cell_type": "code",
   "execution_count": 4,
   "metadata": {},
   "outputs": [
    {
     "data": {
      "text/html": [
       "<div>\n",
       "<style scoped>\n",
       "    .dataframe tbody tr th:only-of-type {\n",
       "        vertical-align: middle;\n",
       "    }\n",
       "\n",
       "    .dataframe tbody tr th {\n",
       "        vertical-align: top;\n",
       "    }\n",
       "\n",
       "    .dataframe thead th {\n",
       "        text-align: right;\n",
       "    }\n",
       "</style>\n",
       "<table border=\"1\" class=\"dataframe\">\n",
       "  <thead>\n",
       "    <tr style=\"text-align: right;\">\n",
       "      <th></th>\n",
       "      <th>Survived</th>\n",
       "      <th>Pclass</th>\n",
       "      <th>Sex</th>\n",
       "      <th>Age</th>\n",
       "      <th>SibSp</th>\n",
       "      <th>Parch</th>\n",
       "      <th>Fare</th>\n",
       "      <th>Embarked</th>\n",
       "    </tr>\n",
       "    <tr>\n",
       "      <th>PassengerId</th>\n",
       "      <th></th>\n",
       "      <th></th>\n",
       "      <th></th>\n",
       "      <th></th>\n",
       "      <th></th>\n",
       "      <th></th>\n",
       "      <th></th>\n",
       "      <th></th>\n",
       "    </tr>\n",
       "  </thead>\n",
       "  <tbody>\n",
       "    <tr>\n",
       "      <th>1</th>\n",
       "      <td>0</td>\n",
       "      <td>3</td>\n",
       "      <td>male</td>\n",
       "      <td>22.0</td>\n",
       "      <td>1</td>\n",
       "      <td>0</td>\n",
       "      <td>7.2500</td>\n",
       "      <td>S</td>\n",
       "    </tr>\n",
       "    <tr>\n",
       "      <th>2</th>\n",
       "      <td>1</td>\n",
       "      <td>1</td>\n",
       "      <td>female</td>\n",
       "      <td>38.0</td>\n",
       "      <td>1</td>\n",
       "      <td>0</td>\n",
       "      <td>71.2833</td>\n",
       "      <td>C</td>\n",
       "    </tr>\n",
       "    <tr>\n",
       "      <th>3</th>\n",
       "      <td>1</td>\n",
       "      <td>3</td>\n",
       "      <td>female</td>\n",
       "      <td>26.0</td>\n",
       "      <td>0</td>\n",
       "      <td>0</td>\n",
       "      <td>7.9250</td>\n",
       "      <td>S</td>\n",
       "    </tr>\n",
       "    <tr>\n",
       "      <th>4</th>\n",
       "      <td>1</td>\n",
       "      <td>1</td>\n",
       "      <td>female</td>\n",
       "      <td>35.0</td>\n",
       "      <td>1</td>\n",
       "      <td>0</td>\n",
       "      <td>53.1000</td>\n",
       "      <td>S</td>\n",
       "    </tr>\n",
       "    <tr>\n",
       "      <th>5</th>\n",
       "      <td>0</td>\n",
       "      <td>3</td>\n",
       "      <td>male</td>\n",
       "      <td>35.0</td>\n",
       "      <td>0</td>\n",
       "      <td>0</td>\n",
       "      <td>8.0500</td>\n",
       "      <td>S</td>\n",
       "    </tr>\n",
       "  </tbody>\n",
       "</table>\n",
       "</div>"
      ],
      "text/plain": [
       "             Survived  Pclass     Sex   Age  SibSp  Parch     Fare Embarked\n",
       "PassengerId                                                                \n",
       "1                   0       3    male  22.0      1      0   7.2500        S\n",
       "2                   1       1  female  38.0      1      0  71.2833        C\n",
       "3                   1       3  female  26.0      0      0   7.9250        S\n",
       "4                   1       1  female  35.0      1      0  53.1000        S\n",
       "5                   0       3    male  35.0      0      0   8.0500        S"
      ]
     },
     "execution_count": 4,
     "metadata": {},
     "output_type": "execute_result"
    }
   ],
   "source": [
    "# Drop Columns not to be used\n",
    "data = data.drop([\"Name\", \"Ticket\", \"Cabin\"], axis=1)\n",
    "comp_data = comp_data.drop([\"Name\", \"Ticket\", \"Cabin\"], axis=1)\n",
    "\n",
    "data.head()"
   ]
  },
  {
   "cell_type": "code",
   "execution_count": 5,
   "metadata": {},
   "outputs": [
    {
     "data": {
      "text/plain": [
       "Survived    0\n",
       "Pclass      0\n",
       "Sex         0\n",
       "Age         0\n",
       "SibSp       0\n",
       "Parch       0\n",
       "Fare        0\n",
       "Embarked    0\n",
       "dtype: int64"
      ]
     },
     "execution_count": 5,
     "metadata": {},
     "output_type": "execute_result"
    }
   ],
   "source": [
    "# Replacing nans with mean age for missing ages\n",
    "# data[\"Age\"] = data[\"Age\"].fillna(data[\"Age\"].mean())\n",
    "\n",
    "# Replacing the missing age with the median age based on the passengers class \n",
    "data[\"Age\"] = data.groupby(\"Pclass\")[\"Age\"].apply(lambda x:  x.fillna(round(x.median())))\n",
    "comp_data[\"Age\"] = comp_data.groupby(\"Pclass\")[\"Age\"].apply(lambda x:  x.fillna(round(x.median())))\n",
    "\n",
    "# Replacing the missing port with the port of Southhampton as that is where the majority of passengers boarded\n",
    "data[\"Embarked\"] = data[\"Embarked\"].fillna(\"S\")\n",
    "comp_data[\"Embarked\"] = comp_data[\"Embarked\"].fillna(\"S\")\n",
    "\n",
    "# Replacing the missing fare with the mean of classes fare\n",
    "comp_data[\"Fare\"] = comp_data.groupby(\"Pclass\")[\"Fare\"].apply(lambda x:  x.fillna(round(x.mean())))\n",
    "\n",
    "# Make sure there are no missing entries\n",
    "data.isnull().sum()"
   ]
  },
  {
   "cell_type": "code",
   "execution_count": 6,
   "metadata": {},
   "outputs": [
    {
     "data": {
      "text/html": [
       "<div>\n",
       "<style scoped>\n",
       "    .dataframe tbody tr th:only-of-type {\n",
       "        vertical-align: middle;\n",
       "    }\n",
       "\n",
       "    .dataframe tbody tr th {\n",
       "        vertical-align: top;\n",
       "    }\n",
       "\n",
       "    .dataframe thead th {\n",
       "        text-align: right;\n",
       "    }\n",
       "</style>\n",
       "<table border=\"1\" class=\"dataframe\">\n",
       "  <thead>\n",
       "    <tr style=\"text-align: right;\">\n",
       "      <th></th>\n",
       "      <th>Survived</th>\n",
       "      <th>Age</th>\n",
       "      <th>SibSp</th>\n",
       "      <th>Parch</th>\n",
       "      <th>Fare</th>\n",
       "      <th>Pclass_1</th>\n",
       "      <th>Pclass_2</th>\n",
       "      <th>Pclass_3</th>\n",
       "      <th>Sex_female</th>\n",
       "      <th>Sex_male</th>\n",
       "      <th>Embarked_C</th>\n",
       "      <th>Embarked_Q</th>\n",
       "      <th>Embarked_S</th>\n",
       "    </tr>\n",
       "    <tr>\n",
       "      <th>PassengerId</th>\n",
       "      <th></th>\n",
       "      <th></th>\n",
       "      <th></th>\n",
       "      <th></th>\n",
       "      <th></th>\n",
       "      <th></th>\n",
       "      <th></th>\n",
       "      <th></th>\n",
       "      <th></th>\n",
       "      <th></th>\n",
       "      <th></th>\n",
       "      <th></th>\n",
       "      <th></th>\n",
       "    </tr>\n",
       "  </thead>\n",
       "  <tbody>\n",
       "    <tr>\n",
       "      <th>1</th>\n",
       "      <td>0</td>\n",
       "      <td>22.0</td>\n",
       "      <td>1</td>\n",
       "      <td>0</td>\n",
       "      <td>7.2500</td>\n",
       "      <td>0</td>\n",
       "      <td>0</td>\n",
       "      <td>1</td>\n",
       "      <td>0</td>\n",
       "      <td>1</td>\n",
       "      <td>0</td>\n",
       "      <td>0</td>\n",
       "      <td>1</td>\n",
       "    </tr>\n",
       "    <tr>\n",
       "      <th>2</th>\n",
       "      <td>1</td>\n",
       "      <td>38.0</td>\n",
       "      <td>1</td>\n",
       "      <td>0</td>\n",
       "      <td>71.2833</td>\n",
       "      <td>1</td>\n",
       "      <td>0</td>\n",
       "      <td>0</td>\n",
       "      <td>1</td>\n",
       "      <td>0</td>\n",
       "      <td>1</td>\n",
       "      <td>0</td>\n",
       "      <td>0</td>\n",
       "    </tr>\n",
       "    <tr>\n",
       "      <th>3</th>\n",
       "      <td>1</td>\n",
       "      <td>26.0</td>\n",
       "      <td>0</td>\n",
       "      <td>0</td>\n",
       "      <td>7.9250</td>\n",
       "      <td>0</td>\n",
       "      <td>0</td>\n",
       "      <td>1</td>\n",
       "      <td>1</td>\n",
       "      <td>0</td>\n",
       "      <td>0</td>\n",
       "      <td>0</td>\n",
       "      <td>1</td>\n",
       "    </tr>\n",
       "    <tr>\n",
       "      <th>4</th>\n",
       "      <td>1</td>\n",
       "      <td>35.0</td>\n",
       "      <td>1</td>\n",
       "      <td>0</td>\n",
       "      <td>53.1000</td>\n",
       "      <td>1</td>\n",
       "      <td>0</td>\n",
       "      <td>0</td>\n",
       "      <td>1</td>\n",
       "      <td>0</td>\n",
       "      <td>0</td>\n",
       "      <td>0</td>\n",
       "      <td>1</td>\n",
       "    </tr>\n",
       "    <tr>\n",
       "      <th>5</th>\n",
       "      <td>0</td>\n",
       "      <td>35.0</td>\n",
       "      <td>0</td>\n",
       "      <td>0</td>\n",
       "      <td>8.0500</td>\n",
       "      <td>0</td>\n",
       "      <td>0</td>\n",
       "      <td>1</td>\n",
       "      <td>0</td>\n",
       "      <td>1</td>\n",
       "      <td>0</td>\n",
       "      <td>0</td>\n",
       "      <td>1</td>\n",
       "    </tr>\n",
       "  </tbody>\n",
       "</table>\n",
       "</div>"
      ],
      "text/plain": [
       "             Survived   Age  SibSp  Parch     Fare  Pclass_1  Pclass_2  \\\n",
       "PassengerId                                                              \n",
       "1                   0  22.0      1      0   7.2500         0         0   \n",
       "2                   1  38.0      1      0  71.2833         1         0   \n",
       "3                   1  26.0      0      0   7.9250         0         0   \n",
       "4                   1  35.0      1      0  53.1000         1         0   \n",
       "5                   0  35.0      0      0   8.0500         0         0   \n",
       "\n",
       "             Pclass_3  Sex_female  Sex_male  Embarked_C  Embarked_Q  \\\n",
       "PassengerId                                                           \n",
       "1                   1           0         1           0           0   \n",
       "2                   0           1         0           1           0   \n",
       "3                   1           1         0           0           0   \n",
       "4                   0           1         0           0           0   \n",
       "5                   1           0         1           0           0   \n",
       "\n",
       "             Embarked_S  \n",
       "PassengerId              \n",
       "1                     1  \n",
       "2                     0  \n",
       "3                     1  \n",
       "4                     1  \n",
       "5                     1  "
      ]
     },
     "execution_count": 6,
     "metadata": {},
     "output_type": "execute_result"
    }
   ],
   "source": [
    "# Encode Pclass, Sex, and Embarked into dummy variables\n",
    "data = pd.concat([data, pd.get_dummies(data[\"Pclass\"], prefix='Pclass')],axis=1)\n",
    "data = pd.concat([data, pd.get_dummies(data[\"Sex\"], prefix='Sex')],axis=1)\n",
    "data = pd.concat([data, pd.get_dummies(data[\"Embarked\"], prefix='Embarked')],axis=1)\n",
    "\n",
    "comp_data = pd.concat([comp_data, pd.get_dummies(comp_data[\"Pclass\"], prefix='Pclass')],axis=1)\n",
    "comp_data = pd.concat([comp_data, pd.get_dummies(comp_data[\"Sex\"], prefix='Sex')],axis=1)\n",
    "comp_data = pd.concat([comp_data, pd.get_dummies(comp_data[\"Embarked\"], prefix='Embarked')],axis=1)\n",
    "\n",
    "# Drop the encoded columns\n",
    "data = data.drop([\"Pclass\", \"Sex\", \"Embarked\"], axis=1)\n",
    "comp_data = comp_data.drop([\"Pclass\", \"Sex\", \"Embarked\"], axis=1)\n",
    "\n",
    "data.head()"
   ]
  },
  {
   "cell_type": "code",
   "execution_count": 7,
   "metadata": {},
   "outputs": [],
   "source": [
    "# Seperate the data into training data and test data\n",
    "y = data[\"Survived\"]\n",
    "X = data.drop([\"Survived\"], axis=1)\n",
    "\n",
    "X_train, X_test, y_train, y_test = train_test_split(X, y, test_size=0.2, random_state=0)"
   ]
  },
  {
   "cell_type": "code",
   "execution_count": 8,
   "metadata": {},
   "outputs": [],
   "source": [
    "# Apply a standard scalar across the data\n",
    "sc = StandardScaler()\n",
    "X_train = sc.fit_transform(X_train)\n",
    "X_test = sc.transform(X_test)"
   ]
  },
  {
   "cell_type": "markdown",
   "metadata": {},
   "source": [
    "### Logistic Regression"
   ]
  },
  {
   "cell_type": "code",
   "execution_count": 9,
   "metadata": {},
   "outputs": [
    {
     "name": "stdout",
     "output_type": "stream",
     "text": [
      "Logistic Regression\n",
      "Confusion Matrix:\n",
      " [[95 15]\n",
      " [19 50]]\n",
      "Accuracy Score: 0.810\n"
     ]
    }
   ],
   "source": [
    "print(\"Logistic Regression\")\n",
    "classifier = LogisticRegression(random_state=0)\n",
    "classifier.fit(X_train, y_train)\n",
    "cm = confusion_matrix(classifier, X_test, y_test)\n",
    "ac = accuracy_score(classifier, X_test, y_test)\n",
    "print(\"Confusion Matrix:\\n %s\" % cm)\n",
    "print(\"Accuracy Score: %.3f\" % ac)"
   ]
  },
  {
   "cell_type": "markdown",
   "metadata": {},
   "source": [
    "Using basic Logistic Regression as a baseline we can achieve an accuracy score of 81%"
   ]
  },
  {
   "cell_type": "markdown",
   "metadata": {},
   "source": [
    "### K Nearest Neighbors"
   ]
  },
  {
   "cell_type": "code",
   "execution_count": 10,
   "metadata": {},
   "outputs": [
    {
     "name": "stdout",
     "output_type": "stream",
     "text": [
      "K Nearest Neighbors\n",
      "Maximum: 175\n",
      "Confusion Matrix:\n",
      " [[109   1]\n",
      " [ 29  40]]\n",
      "Accuracy Score: 0.832\n"
     ]
    },
    {
     "data": {
      "image/png": "[encoded data removed]",
      "text/plain": [
       "<Figure size 576x432 with 1 Axes>"
      ]
     },
     "metadata": {
      "needs_background": "light"
     },
     "output_type": "display_data"
    }
   ],
   "source": [
    "print(\"K Nearest Neighbors\")\n",
    "\n",
    "neighbors = range(4, 250)\n",
    "\n",
    "results = pd.DataFrame()\n",
    "for i in neighbors:\n",
    "    classifier = KNeighborsClassifier(n_neighbors=i+1, metric=\"minkowski\", p=2)\n",
    "    classifier.fit(X_train, y_train)\n",
    "    ac = accuracy_score(classifier, X_test, y_test)\n",
    "    results[str(i+1)] = [ac]\n",
    "\n",
    "results.T.plot(marker='o')\n",
    "print(\"Maximum: %i\" % int(results.idxmax(axis=1)[0]))\n",
    "\n",
    "classifier = KNeighborsClassifier(n_neighbors=int(results.idxmax(axis=1)[0]), metric=\"minkowski\", p=2)\n",
    "classifier.fit(X_train, y_train)\n",
    "cm = confusion_matrix(classifier, X_test, y_test)\n",
    "ac = accuracy_score(classifier, X_test, y_test)\n",
    "print(\"Confusion Matrix:\\n %s\" % cm)\n",
    "print(\"Accuracy Score: %.3f\" % ac)"
   ]
  },
  {
   "cell_type": "markdown",
   "metadata": {},
   "source": [
    "Testing out the K Nearest Neighbors algorithm with multiple values for the number of neighbors we can see that the max accuracy score is achieved at ~175 neighbors with another local peak at ~60 neighbors. 175 seems like perhaps it is a little high for a number of neighbors as there are only ~800 entries in the dataset so I would suspect that there is some overfitting meaning that a more reasonable value to pick would be either ~10 or maybe ~60 even though it would give a lower accuracy score overall. "
   ]
  },
  {
   "cell_type": "markdown",
   "metadata": {},
   "source": [
    "### Support Vector Machine"
   ]
  },
  {
   "cell_type": "code",
   "execution_count": 11,
   "metadata": {},
   "outputs": [
    {
     "name": "stdout",
     "output_type": "stream",
     "text": [
      "Support Vector Machine\n",
      "Maximum: poly\n",
      "\n",
      "Confusion Matrix:\n",
      " [[105   5]\n",
      " [ 26  43]]\n",
      "Accuracy Score: 0.827\n"
     ]
    },
    {
     "data": {
      "image/png": "[encoded data removed]",
      "text/plain": [
       "<Figure size 576x432 with 1 Axes>"
      ]
     },
     "metadata": {
      "needs_background": "light"
     },
     "output_type": "display_data"
    }
   ],
   "source": [
    "print(\"Support Vector Machine\")\n",
    "results = pd.DataFrame()\n",
    "kernels = [\"linear\", \"poly\", \"rbf\", \"sigmoid\"]\n",
    "\n",
    "for kernel in kernels:\n",
    "    classifier = SVC(kernel=kernel, random_state=0)\n",
    "    classifier.fit(X_train, y_train)\n",
    "    ac = accuracy_score(classifier, X_test, y_test)\n",
    "    results[kernel] = [ac]\n",
    "\n",
    "results.boxplot()\n",
    "print(\"Maximum: %s\" % results.idxmax(axis=1)[0])\n",
    "print()\n",
    "\n",
    "classifier = SVC(kernel=\"poly\", random_state=0)\n",
    "classifier.fit(X_train, y_train)\n",
    "cm = confusion_matrix(classifier, X_test, y_test)\n",
    "ac = accuracy_score(classifier, X_test, y_test)\n",
    "print(\"Confusion Matrix:\\n %s\" % cm)\n",
    "print(\"Accuracy Score: %.3f\" % ac)"
   ]
  },
  {
   "cell_type": "markdown",
   "metadata": {},
   "source": [
    "From the results it appears that the best SVM kernal for this dataset is either a polynomial function or the radial basis function. The degree of the polynomial function can also be a hyperparameter that can be set so that will be discussed in the next section. "
   ]
  },
  {
   "cell_type": "code",
   "execution_count": 12,
   "metadata": {},
   "outputs": [
    {
     "name": "stdout",
     "output_type": "stream",
     "text": [
      "Support Vector Machine - Poly\n",
      "Maximum: 3\n",
      "\n",
      "Confusion Matrix:\n",
      " [[105   5]\n",
      " [ 26  43]]\n",
      "Accuracy Score: 0.827\n"
     ]
    },
    {
     "data": {
      "image/png": "[encoded data removed]",
      "text/plain": [
       "<Figure size 576x432 with 1 Axes>"
      ]
     },
     "metadata": {
      "needs_background": "light"
     },
     "output_type": "display_data"
    }
   ],
   "source": [
    "print(\"Support Vector Machine - Poly\")\n",
    "results = pd.DataFrame()\n",
    "orders = range(10)\n",
    "\n",
    "for order in orders:\n",
    "    classifier = SVC(kernel=\"poly\", degree=order, random_state=0)\n",
    "    classifier.fit(X_train, y_train)\n",
    "    ac = accuracy_score(classifier, X_test, y_test)\n",
    "    results[order] = [ac]\n",
    "\n",
    "results.T.plot(marker='o')\n",
    "print(\"Maximum: %s\" % results.idxmax(axis=1)[0])\n",
    "print()\n",
    "\n",
    "classifier = SVC(kernel=\"poly\", degree=results.idxmax(axis=1)[0], random_state=0)\n",
    "classifier.fit(X_train, y_train)\n",
    "cm = confusion_matrix(classifier, X_test, y_test)\n",
    "ac = accuracy_score(classifier, X_test, y_test)\n",
    "print(\"Confusion Matrix:\\n %s\" % cm)\n",
    "print(\"Accuracy Score: %.3f\" % ac)"
   ]
  },
  {
   "cell_type": "markdown",
   "metadata": {},
   "source": [
    "After testing the differnt degrees from 0-9 is is clear that by chance the default 3rd order is the best performing."
   ]
  },
  {
   "cell_type": "markdown",
   "metadata": {},
   "source": [
    "### Naive Bayes"
   ]
  },
  {
   "cell_type": "code",
   "execution_count": 13,
   "metadata": {},
   "outputs": [
    {
     "name": "stdout",
     "output_type": "stream",
     "text": [
      "Naive Bayes\n",
      "Confusion Matrix:\n",
      " [[89 21]\n",
      " [15 54]]\n",
      "Accuracy Score: 0.799\n"
     ]
    }
   ],
   "source": [
    "print(\"Naive Bayes\")\n",
    "classifier = GaussianNB()\n",
    "classifier.fit(X_train, y_train)\n",
    "cm = confusion_matrix(classifier, X_test, y_test)\n",
    "ac = accuracy_score(classifier, X_test, y_test)\n",
    "print(\"Confusion Matrix:\\n %s\" % cm)\n",
    "print(\"Accuracy Score: %.3f\" % ac)"
   ]
  },
  {
   "cell_type": "markdown",
   "metadata": {},
   "source": [
    "### Decision Tree"
   ]
  },
  {
   "cell_type": "code",
   "execution_count": 14,
   "metadata": {},
   "outputs": [
    {
     "name": "stdout",
     "output_type": "stream",
     "text": [
      "Decision Tree\n",
      "Mean: 0.778\n"
     ]
    },
    {
     "data": {
      "image/png": "[encoded data removed]",
      "text/plain": [
       "<Figure size 576x432 with 1 Axes>"
      ]
     },
     "metadata": {
      "needs_background": "light"
     },
     "output_type": "display_data"
    }
   ],
   "source": [
    "print(\"Decision Tree\")\n",
    "ac_scores = []\n",
    "for i in range(50):\n",
    "    \n",
    "    classifier = DecisionTreeClassifier(criterion=\"entropy\")\n",
    "    classifier.fit(X_train, y_train)\n",
    "    cm = confusion_matrix(classifier, X_test, y_test)\n",
    "    ac = accuracy_score(classifier, X_test, y_test)\n",
    "#     print(\"Confusion Matrix:\\n %s\" % cm)\n",
    "#     print(\"Accuracy Score: %.3f\" % ac)\n",
    "    ac_scores.append(ac)\n",
    "\n",
    "pd.DataFrame(ac_scores).boxplot()\n",
    "print(\"Mean: %.3f\" % np.mean(ac_scores))"
   ]
  },
  {
   "cell_type": "markdown",
   "metadata": {},
   "source": [
    "### Random Forest"
   ]
  },
  {
   "cell_type": "code",
   "execution_count": 15,
   "metadata": {},
   "outputs": [
    {
     "name": "stdout",
     "output_type": "stream",
     "text": [
      "Random Forest\n",
      "Confusion Matrix:\n",
      " [[100  10]\n",
      " [ 19  50]]\n",
      "Accuracy Score: 0.838\n"
     ]
    },
    {
     "data": {
      "image/png": "[encoded data removed]",
      "text/plain": [
       "<Figure size 576x432 with 1 Axes>"
      ]
     },
     "metadata": {
      "needs_background": "light"
     },
     "output_type": "display_data"
    }
   ],
   "source": [
    "print(\"Random Forest\")\n",
    "results = pd.DataFrame()\n",
    "\n",
    "trees = [20, 40, 60, 80, 100, 120, 140, 160, 180, 200]\n",
    "for tree in trees:\n",
    "    ac_scores = []\n",
    "    for i in range(50):\n",
    "        classifier = RandomForestClassifier(n_estimators=tree, criterion=\"entropy\")\n",
    "        classifier.fit(X_train, y_train)\n",
    "        ac = accuracy_score(classifier, X_test, y_test)\n",
    "        ac_scores.append(ac)\n",
    "    results[str(tree)] = ac_scores\n",
    "\n",
    "results.boxplot()\n",
    "\n",
    "classifier = RandomForestClassifier(n_estimators=100, criterion=\"entropy\")\n",
    "classifier.fit(X_train, y_train)\n",
    "cm = confusion_matrix(classifier, X_test, y_test)\n",
    "ac = accuracy_score(classifier, X_test, y_test)\n",
    "print(\"Confusion Matrix:\\n %s\" % cm)\n",
    "print(\"Accuracy Score: %.3f\" % ac)"
   ]
  },
  {
   "cell_type": "markdown",
   "metadata": {},
   "source": [
    "The Random Forest model is the hardest to evaluate as there is significant variability between trials but after observing several runs it was clear that a number of estimators of ~100 was the best balance between highest mean and narrowest spread of resutls. "
   ]
  },
  {
   "cell_type": "markdown",
   "metadata": {},
   "source": [
    "### Final Result\n",
    "\n",
    "After considering all the various models, their strengths and weaknesses, the Random Forest was picked as the best model for this application."
   ]
  },
  {
   "cell_type": "code",
   "execution_count": 16,
   "metadata": {},
   "outputs": [],
   "source": [
    "comp_X = sc.transform(comp_data)\n",
    "\n",
    "comp_y = {}\n",
    "for index, row in comp_data.iterrows():\n",
    "    comp_y[index] = classifier.predict(sc.transform([row]))[0]\n",
    "\n",
    "import csv\n",
    "with open('results/result.csv','w') as f:\n",
    "    w = csv.writer(f)\n",
    "    w.writerows(comp_y.items())"
   ]
  }
 ],
 "metadata": {
  "kernelspec": {
   "display_name": "neuralbus",
   "language": "python",
   "name": "neuralbus"
  },
  "language_info": {
   "codemirror_mode": {
    "name": "ipython",
    "version": 3
   },
   "file_extension": ".py",
   "mimetype": "text/x-python",
   "name": "python",
   "nbconvert_exporter": "python",
   "pygments_lexer": "ipython3",
   "version": "3.8.2"
  }
 },
 "nbformat": 4,
 "nbformat_minor": 4
}
